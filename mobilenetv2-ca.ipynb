{
  "cells": [
    {
      "cell_type": "markdown",
      "metadata": {
        "id": "view-in-github",
        "colab_type": "text"
      },
      "source": [
        "<a href=\"https://colab.research.google.com/github/323417/CAN4DDD/blob/main/mobilenetv2-ca.ipynb\" target=\"_parent\"><img src=\"https://colab.research.google.com/assets/colab-badge.svg\" alt=\"Open In Colab\"/></a>"
      ]
    },
    {
      "cell_type": "code",
      "execution_count": null,
      "metadata": {
        "collapsed": true,
        "ExecuteTime": {
          "start_time": "2023-06-18T19:42:42.550235Z",
          "end_time": "2023-06-18T19:42:43.868696Z"
        },
        "id": "9A6mq3JTc_q2"
      },
      "outputs": [],
      "source": [
        "import os\n",
        "\n",
        "import numpy as np"
      ]
    },
    {
      "cell_type": "code",
      "execution_count": null,
      "outputs": [],
      "source": [
        "ratio = 0.2"
      ],
      "metadata": {
        "ExecuteTime": {
          "start_time": "2023-06-18T19:11:38.185179Z",
          "end_time": "2023-06-18T19:11:38.212698Z"
        },
        "id": "NgtU5xyIc_q4"
      }
    },
    {
      "cell_type": "code",
      "execution_count": null,
      "outputs": [],
      "source": [
        "for category in os.listdir(\"AUCCamera/train\"):\n",
        "    os.makedirs(\"AUCCamera/val/{}\".format(category), exist_ok=True)\n",
        "    images = os.listdir(\"AUCCamera/train/{}\".format(category))\n",
        "    number_of_images = len(images)\n",
        "\n",
        "    random_image_indices = np.random.choice(number_of_images, int(number_of_images * ratio), replace=False)\n",
        "\n",
        "    for i in random_image_indices:\n",
        "        os.rename(\"AUCCamera/train/{}/{}\".format(category, images[i]),\n",
        "                  \"AUCCamera/val/{}/{}\".format(category, images[i]))"
      ],
      "metadata": {
        "ExecuteTime": {
          "start_time": "2023-06-18T19:15:04.070845Z",
          "end_time": "2023-06-18T19:15:06.123618Z"
        },
        "id": "weHFmWE3c_q4"
      }
    },
    {
      "cell_type": "code",
      "execution_count": null,
      "outputs": [],
      "source": [],
      "metadata": {
        "id": "5_KojoW4c_q5"
      }
    }
  ],
  "metadata": {
    "kernelspec": {
      "display_name": "Python 3",
      "language": "python",
      "name": "python3"
    },
    "language_info": {
      "codemirror_mode": {
        "name": "ipython",
        "version": 2
      },
      "file_extension": ".py",
      "mimetype": "text/x-python",
      "name": "python",
      "nbconvert_exporter": "python",
      "pygments_lexer": "ipython2",
      "version": "2.7.6"
    },
    "colab": {
      "provenance": [],
      "toc_visible": true,
      "include_colab_link": true
    }
  },
  "nbformat": 4,
  "nbformat_minor": 0
}